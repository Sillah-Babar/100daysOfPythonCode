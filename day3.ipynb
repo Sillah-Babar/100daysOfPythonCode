{
  "nbformat": 4,
  "nbformat_minor": 0,
  "metadata": {
    "colab": {
      "provenance": []
    },
    "kernelspec": {
      "name": "python3",
      "display_name": "Python 3"
    },
    "language_info": {
      "name": "python"
    }
  },
  "cells": [
    {
      "cell_type": "code",
      "execution_count": 5,
      "metadata": {
        "colab": {
          "base_uri": "https://localhost:8080/"
        },
        "id": "7G1n_zdqZKPs",
        "outputId": "856006a9-0f05-4c54-d83e-d6ddc0e8bf68"
      },
      "outputs": [
        {
          "output_type": "stream",
          "name": "stdout",
          "text": [
            "Welcome to Treasure Island. \n",
            "Your mission is to find the treasure.\n",
            "left or right. right\n",
            "Fall into a hole.Game Over.\n"
          ]
        }
      ],
      "source": [
        "print(\"Welcome to Treasure Island. \\nYour mission is to find the treasure.\")\n",
        "direction=input(\"left or right. \")\n",
        "if(direction.lower()=='right'):\n",
        "  print(\"Fall into a hole.Game Over.\")\n",
        "elif(direction.lower()=='left'):\n",
        "  secondstep=input(\"swim or wait. \")\n",
        "  if(secondstep.lower()=='swim'):\n",
        "    print(\"Attacked by trout.Game Over.\")\n",
        "  elif(secondstep.lower()=='wait'):\n",
        "    door=input(\" Which door, yellow, red or blue? \")\n",
        "    if(door.lower()=='red'):\n",
        "      print(\"Burned by fire.Game Over.\")\n",
        "    elif(door.lower()=='blue'):\n",
        "      print(\"Eaten by beasts.Game Over.\")\n",
        "    elif(door.lower()=='yellow'):\n",
        "      print(\"You win\")\n",
        "    else:\n",
        "      print(\"Game Over\")\n",
        "  else:\n",
        "    print(\"Attacked by trout.Game Over.\")"
      ]
    }
  ]
}